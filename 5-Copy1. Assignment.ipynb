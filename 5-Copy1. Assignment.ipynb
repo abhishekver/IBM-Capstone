{
 "cells": [
  {
   "cell_type": "markdown",
   "metadata": {},
   "source": [
    "## Problem Statement"
   ]
  },
  {
   "cell_type": "markdown",
   "metadata": {},
   "source": [
    "Mumbai is one of largest and busiest city in India. Thousands of non native people who come to visit Mumbai and even the natives of Mumbai often face the problem of finding the best restaurants for their needs. They don’t have the access to all the data for all the restaurants, and even if they have it , it is too much for them to analyse.\n",
    "\n",
    "People need a tool which can help them to select the restaurant which best fits their interests, as per the the cost, location, type, ratings, etc."
   ]
  },
  {
   "cell_type": "markdown",
   "metadata": {},
   "source": [
    "## Data Description"
   ]
  },
  {
   "cell_type": "markdown",
   "metadata": {},
   "source": [
    "<b> Additional_outlet_count: </b> It tells the number of additional outels of the restaurant available in the city\n",
    "\n",
    "<b> Call: </b> It shows whether the restaurant takes order through calls or not\n",
    "\n",
    "<b> Cost_for_two: </b> It shows the average food cost for two people\n",
    "\n",
    "<b> Cuisines: </b> Type of food options (Italian, Mexican, Indian, etc)\n",
    "\n",
    "<b> Delivery_Time_min_order: </b> Time for delivery, if applicable\n",
    "\n",
    "<b> Features: </b> Extra facilities available at the restaurant, if applicable\n",
    "\n",
    "<b> Home_Delivery: </b> It shows whether the restaurant provides home delivery or not\n",
    "\n",
    "<b> Operational_hours: </b> Timings for the restaurant\n",
    "\n",
    "<b> Rating_votes: </b> Total ratings of the restaurant\n",
    "\n",
    "<b> Restaurant_Location: </b> Location where the restaurant is situated\n",
    "\n",
    "<b> Restaurant_Name: </b> Name of the restaurant\n",
    "\n",
    "<b> Restaurant_Type: </b> Type of the restaurant (Quick bite, family, etc)\n",
    "\n",
    "<b> View_Menu: </b> Whether food menu is available outside the restaurant or not"
   ]
  },
  {
   "cell_type": "code",
   "execution_count": null,
   "metadata": {},
   "outputs": [],
   "source": []
  }
 ],
 "metadata": {
  "kernelspec": {
   "display_name": "Python 3",
   "language": "python",
   "name": "python3"
  },
  "language_info": {
   "codemirror_mode": {
    "name": "ipython",
    "version": 3
   },
   "file_extension": ".py",
   "mimetype": "text/x-python",
   "name": "python",
   "nbconvert_exporter": "python",
   "pygments_lexer": "ipython3",
   "version": "3.7.1"
  }
 },
 "nbformat": 4,
 "nbformat_minor": 2
}
